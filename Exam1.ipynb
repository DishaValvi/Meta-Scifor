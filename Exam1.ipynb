{
 "cells": [
  {
   "cell_type": "markdown",
   "id": "ab32a54f",
   "metadata": {},
   "source": [
    "# Test 1.0 (Basic Python)\n"
   ]
  },
  {
   "cell_type": "markdown",
   "id": "89e730a7",
   "metadata": {},
   "source": [
    "# List"
   ]
  },
  {
   "cell_type": "code",
   "execution_count": 1,
   "id": "fc8b144f",
   "metadata": {},
   "outputs": [],
   "source": [
    "fruits=[]"
   ]
  },
  {
   "cell_type": "code",
   "execution_count": 2,
   "id": "18106b8b",
   "metadata": {},
   "outputs": [
    {
     "data": {
      "text/plain": [
       "[]"
      ]
     },
     "execution_count": 2,
     "metadata": {},
     "output_type": "execute_result"
    }
   ],
   "source": [
    "print(fruits)"
   ]
  },
  {
   "cell_type": "code",
   "execution_count": 5,
   "id": "28623843",
   "metadata": {},
   "outputs": [],
   "source": [
    "fruits.append('apple')"
   ]
  },
  {
   "cell_type": "code",
   "execution_count": 6,
   "id": "05f1e06f",
   "metadata": {},
   "outputs": [
    {
     "data": {
      "text/plain": [
       "['apple']"
      ]
     },
     "execution_count": 6,
     "metadata": {},
     "output_type": "execute_result"
    }
   ],
   "source": [
    "fruits"
   ]
  },
  {
   "cell_type": "code",
   "execution_count": 8,
   "id": "6d7ae374",
   "metadata": {},
   "outputs": [],
   "source": [
    "fruits.extend([\"banana\",\"cherry\"])"
   ]
  },
  {
   "cell_type": "code",
   "execution_count": 9,
   "id": "4cac7f7d",
   "metadata": {},
   "outputs": [
    {
     "data": {
      "text/plain": [
       "['apple', 'banana', 'cherry']"
      ]
     },
     "execution_count": 9,
     "metadata": {},
     "output_type": "execute_result"
    }
   ],
   "source": [
    "fruits"
   ]
  },
  {
   "cell_type": "code",
   "execution_count": 10,
   "id": "5b4baa6d",
   "metadata": {},
   "outputs": [],
   "source": [
    "fruits.remove('banana')"
   ]
  },
  {
   "cell_type": "code",
   "execution_count": 11,
   "id": "ecc1b752",
   "metadata": {},
   "outputs": [
    {
     "data": {
      "text/plain": [
       "['apple', 'cherry']"
      ]
     },
     "execution_count": 11,
     "metadata": {},
     "output_type": "execute_result"
    }
   ],
   "source": [
    "fruits"
   ]
  },
  {
   "cell_type": "code",
   "execution_count": 27,
   "id": "f71cd9b3",
   "metadata": {},
   "outputs": [
    {
     "data": {
      "text/plain": [
       "'apple'"
      ]
     },
     "execution_count": 27,
     "metadata": {},
     "output_type": "execute_result"
    }
   ],
   "source": [
    "fruits.pop(-1)"
   ]
  },
  {
   "cell_type": "code",
   "execution_count": 39,
   "id": "21d56273",
   "metadata": {},
   "outputs": [],
   "source": [
    "fruits=['apple', 'banana', 'cherry']\n"
   ]
  },
  {
   "cell_type": "code",
   "execution_count": 40,
   "id": "cd9999be",
   "metadata": {},
   "outputs": [
    {
     "data": {
      "text/plain": [
       "['apple', 'banana', 'cherry']"
      ]
     },
     "execution_count": 40,
     "metadata": {},
     "output_type": "execute_result"
    }
   ],
   "source": [
    "fruits"
   ]
  },
  {
   "cell_type": "code",
   "execution_count": 41,
   "id": "54b5b021",
   "metadata": {
    "scrolled": true
   },
   "outputs": [],
   "source": [
    "fruits.reverse()"
   ]
  },
  {
   "cell_type": "code",
   "execution_count": 42,
   "id": "71fd8b4d",
   "metadata": {},
   "outputs": [
    {
     "data": {
      "text/plain": [
       "['cherry', 'banana', 'apple']"
      ]
     },
     "execution_count": 42,
     "metadata": {},
     "output_type": "execute_result"
    }
   ],
   "source": [
    "fruits"
   ]
  },
  {
   "cell_type": "code",
   "execution_count": 43,
   "id": "e848126e",
   "metadata": {},
   "outputs": [],
   "source": [
    "fruits.insert(1,'mango')"
   ]
  },
  {
   "cell_type": "code",
   "execution_count": 44,
   "id": "399e48ca",
   "metadata": {},
   "outputs": [
    {
     "data": {
      "text/plain": [
       "['cherry', 'mango', 'banana', 'apple']"
      ]
     },
     "execution_count": 44,
     "metadata": {},
     "output_type": "execute_result"
    }
   ],
   "source": [
    "fruits"
   ]
  },
  {
   "cell_type": "code",
   "execution_count": 45,
   "id": "ad8c27cd",
   "metadata": {},
   "outputs": [
    {
     "data": {
      "text/plain": [
       "['mango', 'banana', 'apple']"
      ]
     },
     "execution_count": 45,
     "metadata": {},
     "output_type": "execute_result"
    }
   ],
   "source": [
    "fruits[1:4]"
   ]
  },
  {
   "cell_type": "code",
   "execution_count": 46,
   "id": "6dc19658",
   "metadata": {},
   "outputs": [],
   "source": [
    "list1=[1,2,3,4,5]"
   ]
  },
  {
   "cell_type": "code",
   "execution_count": 47,
   "id": "ebb08930",
   "metadata": {},
   "outputs": [
    {
     "data": {
      "text/plain": [
       "[1, 5]"
      ]
     },
     "execution_count": 47,
     "metadata": {},
     "output_type": "execute_result"
    }
   ],
   "source": [
    "list1[0:5:4]"
   ]
  },
  {
   "cell_type": "code",
   "execution_count": 48,
   "id": "1063140c",
   "metadata": {},
   "outputs": [],
   "source": [
    "list1[2]=10"
   ]
  },
  {
   "cell_type": "code",
   "execution_count": 49,
   "id": "a779ef98",
   "metadata": {},
   "outputs": [
    {
     "data": {
      "text/plain": [
       "[1, 2, 10, 4, 5]"
      ]
     },
     "execution_count": 49,
     "metadata": {},
     "output_type": "execute_result"
    }
   ],
   "source": [
    "list1"
   ]
  },
  {
   "cell_type": "code",
   "execution_count": 56,
   "id": "86195172",
   "metadata": {},
   "outputs": [
    {
     "name": "stdout",
     "output_type": "stream",
     "text": [
      "grape is not available\n"
     ]
    }
   ],
   "source": [
    "fruits=['cherry', 'mango', 'banana', 'apple']\n",
    "\n",
    "if fruits=='grape':\n",
    "    print('grape is available')\n",
    "else:\n",
    "    print('grape is not available')"
   ]
  },
  {
   "cell_type": "code",
   "execution_count": 57,
   "id": "df70c962",
   "metadata": {},
   "outputs": [
    {
     "name": "stdout",
     "output_type": "stream",
     "text": [
      "cherry\n",
      "mango\n",
      "banana\n",
      "apple\n"
     ]
    }
   ],
   "source": [
    "fruits=['cherry', 'mango', 'banana', 'apple']\n",
    "\n",
    "for items in fruits:\n",
    "    print(items)"
   ]
  },
  {
   "cell_type": "code",
   "execution_count": 58,
   "id": "ac52794b",
   "metadata": {},
   "outputs": [
    {
     "data": {
      "text/plain": [
       "4"
      ]
     },
     "execution_count": 58,
     "metadata": {},
     "output_type": "execute_result"
    }
   ],
   "source": [
    "len(fruits)"
   ]
  },
  {
   "cell_type": "markdown",
   "id": "7522bfd9",
   "metadata": {},
   "source": [
    "# Tuple"
   ]
  },
  {
   "cell_type": "code",
   "execution_count": 71,
   "id": "d3d0c49f",
   "metadata": {},
   "outputs": [],
   "source": [
    "tup=(1,2,3,2,4,2)\n"
   ]
  },
  {
   "cell_type": "code",
   "execution_count": 72,
   "id": "e872895f",
   "metadata": {},
   "outputs": [
    {
     "data": {
      "text/plain": [
       "(1, 2, 3, 2, 4, 2)"
      ]
     },
     "execution_count": 72,
     "metadata": {},
     "output_type": "execute_result"
    }
   ],
   "source": [
    "tup"
   ]
  },
  {
   "cell_type": "code",
   "execution_count": 73,
   "id": "707fde34",
   "metadata": {},
   "outputs": [
    {
     "data": {
      "text/plain": [
       "3"
      ]
     },
     "execution_count": 73,
     "metadata": {},
     "output_type": "execute_result"
    }
   ],
   "source": [
    "tup.count(2)"
   ]
  },
  {
   "cell_type": "code",
   "execution_count": 74,
   "id": "ba420e1e",
   "metadata": {},
   "outputs": [
    {
     "data": {
      "text/plain": [
       "4"
      ]
     },
     "execution_count": 74,
     "metadata": {},
     "output_type": "execute_result"
    }
   ],
   "source": [
    "tup.index(4)"
   ]
  },
  {
   "cell_type": "code",
   "execution_count": 75,
   "id": "d32873f7",
   "metadata": {},
   "outputs": [
    {
     "data": {
      "text/plain": [
       "(1, 2, 3, 2, 4, 2, 7)"
      ]
     },
     "execution_count": 75,
     "metadata": {},
     "output_type": "execute_result"
    }
   ],
   "source": [
    "# Convert tuple into list\n",
    "tup = list(tup)\n",
    "# Append item in to list\n",
    "tup.append(7)\n",
    "# Convert list in to tuple\n",
    "tup = tuple (tup)\n",
    "tup"
   ]
  },
  {
   "cell_type": "code",
   "execution_count": 76,
   "id": "7c87afea",
   "metadata": {},
   "outputs": [],
   "source": [
    "colour=(\"red\",\"green\",\"blue\")"
   ]
  },
  {
   "cell_type": "code",
   "execution_count": 77,
   "id": "9528b42b",
   "metadata": {},
   "outputs": [
    {
     "data": {
      "text/plain": [
       "('red', 'green', 'blue')"
      ]
     },
     "execution_count": 77,
     "metadata": {},
     "output_type": "execute_result"
    }
   ],
   "source": [
    "colour"
   ]
  },
  {
   "cell_type": "code",
   "execution_count": 79,
   "id": "139f0103",
   "metadata": {},
   "outputs": [
    {
     "ename": "TypeError",
     "evalue": "'tuple' object does not support item assignment",
     "output_type": "error",
     "traceback": [
      "\u001b[1;31m---------------------------------------------------------------------------\u001b[0m",
      "\u001b[1;31mTypeError\u001b[0m                                 Traceback (most recent call last)",
      "Cell \u001b[1;32mIn[79], line 2\u001b[0m\n\u001b[0;32m      1\u001b[0m colour\u001b[38;5;241m=\u001b[39m(\u001b[38;5;124m\"\u001b[39m\u001b[38;5;124mred\u001b[39m\u001b[38;5;124m\"\u001b[39m,\u001b[38;5;124m\"\u001b[39m\u001b[38;5;124mgreen\u001b[39m\u001b[38;5;124m\"\u001b[39m,\u001b[38;5;124m\"\u001b[39m\u001b[38;5;124mblue\u001b[39m\u001b[38;5;124m\"\u001b[39m)\n\u001b[1;32m----> 2\u001b[0m colour[\u001b[38;5;241m2\u001b[39m]\u001b[38;5;241m=\u001b[39m\u001b[38;5;124m\"\u001b[39m\u001b[38;5;124mblack\u001b[39m\u001b[38;5;124m\"\u001b[39m\n\u001b[0;32m      3\u001b[0m colour\n",
      "\u001b[1;31mTypeError\u001b[0m: 'tuple' object does not support item assignment"
     ]
    }
   ],
   "source": [
    "colour=(\"red\",\"green\",\"blue\")\n",
    "colour[2]=\"black\"\n",
    "colour"
   ]
  },
  {
   "cell_type": "code",
   "execution_count": 80,
   "id": "5e991f0c",
   "metadata": {},
   "outputs": [
    {
     "data": {
      "text/plain": [
       "('red', 'green', 'blue', 'yellow')"
      ]
     },
     "execution_count": 80,
     "metadata": {},
     "output_type": "execute_result"
    }
   ],
   "source": [
    "# Convert tuple into list\n",
    "colour = list(colour)\n",
    "# Append item in to list\n",
    "colour.append(\"yellow\")\n",
    "# Convert list in to tuple\n",
    "colour = tuple (colour)\n",
    "colour"
   ]
  },
  {
   "cell_type": "markdown",
   "id": "2233765c",
   "metadata": {},
   "source": [
    "# Set"
   ]
  },
  {
   "cell_type": "code",
   "execution_count": 86,
   "id": "6236e742",
   "metadata": {},
   "outputs": [],
   "source": [
    "my_set=set()"
   ]
  },
  {
   "cell_type": "code",
   "execution_count": 87,
   "id": "c2b5e38b",
   "metadata": {},
   "outputs": [
    {
     "data": {
      "text/plain": [
       "set"
      ]
     },
     "execution_count": 87,
     "metadata": {},
     "output_type": "execute_result"
    }
   ],
   "source": [
    "type(my_set)"
   ]
  },
  {
   "cell_type": "code",
   "execution_count": 88,
   "id": "3c49c975",
   "metadata": {},
   "outputs": [],
   "source": [
    "my_set.add(\"apple\")"
   ]
  },
  {
   "cell_type": "code",
   "execution_count": 89,
   "id": "d5077d48",
   "metadata": {},
   "outputs": [
    {
     "data": {
      "text/plain": [
       "{'apple'}"
      ]
     },
     "execution_count": 89,
     "metadata": {},
     "output_type": "execute_result"
    }
   ],
   "source": [
    "my_set"
   ]
  },
  {
   "cell_type": "code",
   "execution_count": 90,
   "id": "fe53daf5",
   "metadata": {},
   "outputs": [],
   "source": [
    "my_set.add(\"banana\")"
   ]
  },
  {
   "cell_type": "code",
   "execution_count": 91,
   "id": "dd81ea83",
   "metadata": {},
   "outputs": [
    {
     "data": {
      "text/plain": [
       "{'apple', 'banana'}"
      ]
     },
     "execution_count": 91,
     "metadata": {},
     "output_type": "execute_result"
    }
   ],
   "source": [
    "my_set"
   ]
  },
  {
   "cell_type": "code",
   "execution_count": 92,
   "id": "6fe8f335",
   "metadata": {},
   "outputs": [
    {
     "data": {
      "text/plain": [
       "{'apple', 'banana'}"
      ]
     },
     "execution_count": 92,
     "metadata": {},
     "output_type": "execute_result"
    }
   ],
   "source": [
    "my_set.add(\"apple\")\n",
    "my_set\n",
    "# apple is not added 2nd time"
   ]
  },
  {
   "cell_type": "code",
   "execution_count": 95,
   "id": "20a743ec",
   "metadata": {},
   "outputs": [
    {
     "data": {
      "text/plain": [
       "{1, 2, 3, 4, 5}"
      ]
     },
     "execution_count": 95,
     "metadata": {},
     "output_type": "execute_result"
    }
   ],
   "source": [
    "set1=[1,2,3]\n",
    "set1=set(set1)\n",
    "set2=[3,4,5]\n",
    "set2=set(set2)\n",
    "union_set = set1 | set2\n",
    "union_set"
   ]
  },
  {
   "cell_type": "code",
   "execution_count": 96,
   "id": "417a662b",
   "metadata": {},
   "outputs": [
    {
     "data": {
      "text/plain": [
       "{3}"
      ]
     },
     "execution_count": 96,
     "metadata": {},
     "output_type": "execute_result"
    }
   ],
   "source": [
    "intersection_set = set1 & set2\n",
    "intersection_set"
   ]
  },
  {
   "cell_type": "code",
   "execution_count": 97,
   "id": "946fa7d2",
   "metadata": {},
   "outputs": [
    {
     "data": {
      "text/plain": [
       "{'banana'}"
      ]
     },
     "execution_count": 97,
     "metadata": {},
     "output_type": "execute_result"
    }
   ],
   "source": [
    "my_set.discard(\"apple\")\n",
    "my_set"
   ]
  },
  {
   "cell_type": "code",
   "execution_count": 98,
   "id": "91502e07",
   "metadata": {},
   "outputs": [
    {
     "name": "stdout",
     "output_type": "stream",
     "text": [
      "1\n",
      "2\n",
      "3\n",
      "4\n",
      "5\n",
      "6\n",
      "7\n",
      "8\n",
      "9\n"
     ]
    }
   ],
   "source": [
    "set3=[1,2,3,4,5,6,7,8,9]\n",
    "set3=set(set3)\n",
    "for i in set3:\n",
    "    print(i)"
   ]
  },
  {
   "cell_type": "markdown",
   "id": "d210eccd",
   "metadata": {},
   "source": [
    "# Dictionary"
   ]
  },
  {
   "cell_type": "code",
   "execution_count": 100,
   "id": "b64482d5",
   "metadata": {},
   "outputs": [
    {
     "data": {
      "text/plain": [
       "{'name': 'Ali'}"
      ]
     },
     "execution_count": 100,
     "metadata": {},
     "output_type": "execute_result"
    }
   ],
   "source": [
    "my_dict={\"name\":\"Ali\"}\n",
    "my_dict"
   ]
  },
  {
   "cell_type": "code",
   "execution_count": 101,
   "id": "0824d54a",
   "metadata": {},
   "outputs": [
    {
     "data": {
      "text/plain": [
       "'Ali'"
      ]
     },
     "execution_count": 101,
     "metadata": {},
     "output_type": "execute_result"
    }
   ],
   "source": [
    "my_dict[\"name\"]"
   ]
  },
  {
   "cell_type": "code",
   "execution_count": 106,
   "id": "bcf91b2d",
   "metadata": {},
   "outputs": [
    {
     "data": {
      "text/plain": [
       "{'name': 'Ali', 'age': 25}"
      ]
     },
     "execution_count": 106,
     "metadata": {},
     "output_type": "execute_result"
    }
   ],
   "source": [
    "my_dict={\"name\":\"Ali\"}\n",
    "my_dict['age']=25\n",
    "my_dict"
   ]
  },
  {
   "cell_type": "code",
   "execution_count": 109,
   "id": "23ee509b",
   "metadata": {},
   "outputs": [
    {
     "data": {
      "text/plain": [
       "{'name': 'Ahmed', 'age': '25'}"
      ]
     },
     "execution_count": 109,
     "metadata": {},
     "output_type": "execute_result"
    }
   ],
   "source": [
    "my_dict.update({\"name\":\"Ahmed\"})\n",
    "my_dict"
   ]
  },
  {
   "cell_type": "code",
   "execution_count": 110,
   "id": "426f3a90",
   "metadata": {},
   "outputs": [
    {
     "data": {
      "text/plain": [
       "{'name': 'Sara', 'grade': 'A', 'age': 17}"
      ]
     },
     "execution_count": 110,
     "metadata": {},
     "output_type": "execute_result"
    }
   ],
   "source": [
    "student={\"name\": \"Sara\", \"grade\": \"A\", \"age\": 17}\n",
    "student"
   ]
  },
  {
   "cell_type": "code",
   "execution_count": 112,
   "id": "6d5a92f1",
   "metadata": {},
   "outputs": [
    {
     "data": {
      "text/plain": [
       "dict_keys(['name', 'grade', 'age'])"
      ]
     },
     "execution_count": 112,
     "metadata": {},
     "output_type": "execute_result"
    }
   ],
   "source": [
    "student.keys()"
   ]
  },
  {
   "cell_type": "code",
   "execution_count": 113,
   "id": "b76e6873",
   "metadata": {},
   "outputs": [
    {
     "data": {
      "text/plain": [
       "dict_values(['Sara', 'A', 17])"
      ]
     },
     "execution_count": 113,
     "metadata": {},
     "output_type": "execute_result"
    }
   ],
   "source": [
    "student.values()"
   ]
  },
  {
   "cell_type": "code",
   "execution_count": 114,
   "id": "f3a42ca8",
   "metadata": {},
   "outputs": [
    {
     "name": "stdout",
     "output_type": "stream",
     "text": [
      "grade is exist\n"
     ]
    }
   ],
   "source": [
    "student={\"name\": \"Sara\", \"grade\": \"A\", \"age\": 17}\n",
    "check=\"grade\"\n",
    "if check in student:\n",
    "    print(\"grade is exist\")\n",
    "else:\n",
    "    print(\"grade is not exist\")\n",
    "        "
   ]
  },
  {
   "cell_type": "code",
   "execution_count": 116,
   "id": "88f322b6",
   "metadata": {},
   "outputs": [
    {
     "name": "stdout",
     "output_type": "stream",
     "text": [
      "name : Sara\n",
      "grade : A\n",
      "age : 17\n"
     ]
    }
   ],
   "source": [
    "student={\"name\": \"Sara\", \"grade\": \"A\", \"age\": 17}\n",
    "for key,value in student.items():\n",
    "    print(key,\":\",value)\n"
   ]
  },
  {
   "cell_type": "markdown",
   "id": "29926ced",
   "metadata": {},
   "source": [
    "# If-Elif-Else"
   ]
  },
  {
   "cell_type": "code",
   "execution_count": 117,
   "id": "6725da40",
   "metadata": {},
   "outputs": [
    {
     "name": "stdout",
     "output_type": "stream",
     "text": [
      "Found 10\n"
     ]
    }
   ],
   "source": [
    "numbers = [5, 10, 15, 20, 25]\n",
    "\n",
    "if(numbers[0]==10):\n",
    "    print(\"Found 10\")\n",
    "elif(numbers[1]==10):\n",
    "    print(\"Found 10\")\n",
    "elif(numbers[2]==10):\n",
    "    print(\"Found 10\")\n",
    "elif(numbers[3]==10):\n",
    "    print(\"Found 10\")\n",
    "elif(numbers[4]==10):\n",
    "    print(\"Found 10\")\n",
    "else:\n",
    "    print(\"10 not found\")\n",
    "\n",
    "\n"
   ]
  },
  {
   "cell_type": "code",
   "execution_count": 118,
   "id": "83a6eb2d",
   "metadata": {},
   "outputs": [
    {
     "name": "stdout",
     "output_type": "stream",
     "text": [
      "Large Number\n"
     ]
    }
   ],
   "source": [
    "a=27\n",
    "if a>20:\n",
    "    print(\"Large Number\")\n",
    "else:\n",
    "    print(\"Small Number\")  "
   ]
  },
  {
   "cell_type": "markdown",
   "id": "8f80b16a",
   "metadata": {},
   "source": [
    "# Simple Expression"
   ]
  },
  {
   "cell_type": "code",
   "execution_count": 119,
   "id": "ba27bbb2",
   "metadata": {},
   "outputs": [
    {
     "name": "stdout",
     "output_type": "stream",
     "text": [
      "15\n",
      "50\n",
      "5\n",
      "2.0\n"
     ]
    }
   ],
   "source": [
    "a=5\n",
    "b=10\n",
    "print(a+b)\n",
    "print(a*b)\n",
    "print(b-a)\n",
    "print(b/a)"
   ]
  },
  {
   "cell_type": "code",
   "execution_count": 120,
   "id": "0b86eba5",
   "metadata": {},
   "outputs": [
    {
     "data": {
      "text/plain": [
       "30"
      ]
     },
     "execution_count": 120,
     "metadata": {},
     "output_type": "execute_result"
    }
   ],
   "source": [
    "c=(a+b)*2\n",
    "c"
   ]
  },
  {
   "cell_type": "code",
   "execution_count": 122,
   "id": "dbca9297",
   "metadata": {},
   "outputs": [
    {
     "name": "stdout",
     "output_type": "stream",
     "text": [
      "12\n",
      "you are not eligable\n"
     ]
    }
   ],
   "source": [
    "age=int(input())\n",
    "if (age >=18):\n",
    "    print(\"you are eligable\")\n",
    "else:\n",
    "    print(\"you are not eligable\")\n"
   ]
  },
  {
   "cell_type": "markdown",
   "id": "0b44d02a",
   "metadata": {},
   "source": [
    "# More Expression Questions"
   ]
  },
  {
   "cell_type": "code",
   "execution_count": 123,
   "id": "a50ad859",
   "metadata": {},
   "outputs": [
    {
     "data": {
      "text/plain": [
       "50"
      ]
     },
     "execution_count": 123,
     "metadata": {},
     "output_type": "execute_result"
    }
   ],
   "source": [
    "# area of a rectangle\n",
    "width=5\n",
    "height=10\n",
    "area=width*height\n",
    "area"
   ]
  },
  {
   "cell_type": "code",
   "execution_count": 125,
   "id": "f8df8baa",
   "metadata": {},
   "outputs": [
    {
     "data": {
      "text/plain": [
       "77.0"
      ]
     },
     "execution_count": 125,
     "metadata": {},
     "output_type": "execute_result"
    }
   ],
   "source": [
    "# converts Celsius to Fahrenheit:\n",
    "C =25\n",
    "F = (C * 9/5) + 32\n",
    "F\n"
   ]
  },
  {
   "cell_type": "code",
   "execution_count": 126,
   "id": "67acab8f",
   "metadata": {},
   "outputs": [
    {
     "data": {
      "text/plain": [
       "100.0"
      ]
     },
     "execution_count": 126,
     "metadata": {},
     "output_type": "execute_result"
    }
   ],
   "source": [
    "# simple interest\n",
    "\n",
    "P = 1000\n",
    "R = 5\n",
    "T = 2\n",
    "\n",
    "SI = (P*R*T)/100\n",
    "SI\n"
   ]
  },
  {
   "cell_type": "markdown",
   "id": "d684d08b",
   "metadata": {},
   "source": [
    "# Range Function"
   ]
  },
  {
   "cell_type": "code",
   "execution_count": 128,
   "id": "014db4cd",
   "metadata": {},
   "outputs": [
    {
     "name": "stdout",
     "output_type": "stream",
     "text": [
      "0\n",
      "1\n",
      "2\n",
      "3\n",
      "4\n"
     ]
    }
   ],
   "source": [
    "for i in range(5):\n",
    "    print(i)\n",
    "  "
   ]
  },
  {
   "cell_type": "code",
   "execution_count": 129,
   "id": "7e97064b",
   "metadata": {},
   "outputs": [
    {
     "name": "stdout",
     "output_type": "stream",
     "text": [
      "1\n",
      "2\n",
      "3\n",
      "4\n",
      "5\n"
     ]
    }
   ],
   "source": [
    "for i in range(1,6):\n",
    "    print(i)\n",
    "  "
   ]
  },
  {
   "cell_type": "code",
   "execution_count": 130,
   "id": "17089191",
   "metadata": {},
   "outputs": [
    {
     "name": "stdout",
     "output_type": "stream",
     "text": [
      "Hello\n",
      "Hello\n",
      "Hello\n",
      "Hello\n",
      "Hello\n"
     ]
    }
   ],
   "source": [
    "for i in range(5):\n",
    "    print(\"Hello\")"
   ]
  },
  {
   "cell_type": "code",
   "execution_count": 133,
   "id": "76c0e0cf",
   "metadata": {},
   "outputs": [
    {
     "name": "stdout",
     "output_type": "stream",
     "text": [
      "Even Number: 2\n",
      "Even Number: 4\n",
      "Even Number: 6\n",
      "Even Number: 8\n",
      "Even Number: 10\n"
     ]
    }
   ],
   "source": [
    "for i in range(2,11,2):\n",
    "    print(\"Even Number:\",i)"
   ]
  },
  {
   "cell_type": "code",
   "execution_count": 135,
   "id": "adde5897",
   "metadata": {},
   "outputs": [
    {
     "name": "stdout",
     "output_type": "stream",
     "text": [
      "10\n",
      "9\n",
      "8\n",
      "7\n",
      "6\n",
      "5\n",
      "4\n",
      "3\n",
      "2\n",
      "1\n"
     ]
    }
   ],
   "source": [
    "for i in range(10,0,-1):\n",
    "    print(i)"
   ]
  },
  {
   "cell_type": "code",
   "execution_count": 142,
   "id": "b276d510",
   "metadata": {},
   "outputs": [
    {
     "name": "stdout",
     "output_type": "stream",
     "text": [
      "[3, 4, 5, 6, 7]\n"
     ]
    }
   ],
   "source": [
    "list1=[]\n",
    "for i in range(3,8):\n",
    "    list1.append(i)\n",
    "    print(list1)\n",
    " "
   ]
  },
  {
   "cell_type": "code",
   "execution_count": 144,
   "id": "77c4c593",
   "metadata": {},
   "outputs": [
    {
     "name": "stdout",
     "output_type": "stream",
     "text": [
      "1\n",
      "4\n",
      "9\n",
      "16\n"
     ]
    }
   ],
   "source": [
    "for i in range(1,5):\n",
    "    square = i**2\n",
    "    print(square)"
   ]
  },
  {
   "cell_type": "code",
   "execution_count": null,
   "id": "2c6b6b11",
   "metadata": {},
   "outputs": [],
   "source": []
  }
 ],
 "metadata": {
  "kernelspec": {
   "display_name": "Python 3 (ipykernel)",
   "language": "python",
   "name": "python3"
  },
  "language_info": {
   "codemirror_mode": {
    "name": "ipython",
    "version": 3
   },
   "file_extension": ".py",
   "mimetype": "text/x-python",
   "name": "python",
   "nbconvert_exporter": "python",
   "pygments_lexer": "ipython3",
   "version": "3.11.5"
  }
 },
 "nbformat": 4,
 "nbformat_minor": 5
}
