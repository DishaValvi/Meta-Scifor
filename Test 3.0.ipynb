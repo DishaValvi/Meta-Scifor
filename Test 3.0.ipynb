{
 "cells": [
  {
   "cell_type": "markdown",
   "id": "bdb2ee5e",
   "metadata": {},
   "source": [
    "## Test 3.0\n"
   ]
  },
  {
   "cell_type": "code",
   "execution_count": null,
   "id": "9ea78eeb",
   "metadata": {},
   "outputs": [],
   "source": []
  },
  {
   "cell_type": "raw",
   "id": "f91e1f0a",
   "metadata": {},
   "source": [
    "Write a Python program to check whether a number is even or odd using if-else."
   ]
  },
  {
   "cell_type": "code",
   "execution_count": 1,
   "id": "256980f3",
   "metadata": {},
   "outputs": [
    {
     "name": "stdout",
     "output_type": "stream",
     "text": [
      "Enter a number: 4\n",
      "4 is even\n"
     ]
    }
   ],
   "source": [
    "number=int(input(\"Enter a number: \"))\n",
    "if number % 2 == 0:\n",
    "    print(f\"{number} is even\")\n",
    "else:\n",
    "    print(f\"{number} is odd\")\n",
    "    "
   ]
  },
  {
   "cell_type": "raw",
   "id": "a0e3a554",
   "metadata": {},
   "source": [
    "Write a for loop that prints numbers from 10 to 1 in reverse"
   ]
  },
  {
   "cell_type": "code",
   "execution_count": 4,
   "id": "e9ad4e5d",
   "metadata": {},
   "outputs": [
    {
     "name": "stdout",
     "output_type": "stream",
     "text": [
      "10\n",
      "9\n",
      "8\n",
      "7\n",
      "6\n",
      "5\n",
      "4\n",
      "3\n",
      "2\n",
      "1\n"
     ]
    }
   ],
   "source": [
    "for i in range(10,0,-1):\n",
    "    print(i)"
   ]
  },
  {
   "cell_type": "raw",
   "id": "589596de",
   "metadata": {},
   "source": [
    "Write a while loop that keeps asking the user to input a number until they enter 0."
   ]
  },
  {
   "cell_type": "code",
   "execution_count": 5,
   "id": "b0279e4c",
   "metadata": {},
   "outputs": [
    {
     "name": "stdout",
     "output_type": "stream",
     "text": [
      "Enter a number: 160\n",
      "Enter a number: 0\n",
      "You Entered:  0\n",
      "Enter a number: \n"
     ]
    },
    {
     "ename": "ValueError",
     "evalue": "invalid literal for int() with base 10: ''",
     "output_type": "error",
     "traceback": [
      "\u001b[1;31m---------------------------------------------------------------------------\u001b[0m",
      "\u001b[1;31mValueError\u001b[0m                                Traceback (most recent call last)",
      "Cell \u001b[1;32mIn[5], line 2\u001b[0m\n\u001b[0;32m      1\u001b[0m \u001b[38;5;28;01mwhile\u001b[39;00m \u001b[38;5;28;01mTrue\u001b[39;00m:\n\u001b[1;32m----> 2\u001b[0m     number\u001b[38;5;241m=\u001b[39m\u001b[38;5;28mint\u001b[39m(\u001b[38;5;28minput\u001b[39m(\u001b[38;5;124m\"\u001b[39m\u001b[38;5;124mEnter a number: \u001b[39m\u001b[38;5;124m\"\u001b[39m))\n\u001b[0;32m      3\u001b[0m     \u001b[38;5;28;01mif\u001b[39;00m number \u001b[38;5;241m==\u001b[39m \u001b[38;5;241m0\u001b[39m:\n\u001b[0;32m      4\u001b[0m         \u001b[38;5;28mprint\u001b[39m(\u001b[38;5;124m\"\u001b[39m\u001b[38;5;124mYou Entered: \u001b[39m\u001b[38;5;124m\"\u001b[39m, number)\n",
      "\u001b[1;31mValueError\u001b[0m: invalid literal for int() with base 10: ''"
     ]
    }
   ],
   "source": [
    "while True:\n",
    "    number=int(input(\"Enter a number: \"))\n",
    "    if number == 0:\n",
    "        print(\"You Entered: \", number)\n",
    "print(\"Loop finished\")"
   ]
  },
  {
   "cell_type": "raw",
   "id": "e17f026e",
   "metadata": {},
   "source": [
    "Write a function that accepts two numbers and returns their sum."
   ]
  },
  {
   "cell_type": "code",
   "execution_count": 9,
   "id": "49132598",
   "metadata": {},
   "outputs": [
    {
     "ename": "IndentationError",
     "evalue": "expected an indented block after function definition on line 1 (3452917953.py, line 3)",
     "output_type": "error",
     "traceback": [
      "\u001b[1;36m  Cell \u001b[1;32mIn[9], line 3\u001b[1;36m\u001b[0m\n\u001b[1;33m    return a+b\u001b[0m\n\u001b[1;37m    ^\u001b[0m\n\u001b[1;31mIndentationError\u001b[0m\u001b[1;31m:\u001b[0m expected an indented block after function definition on line 1\n"
     ]
    }
   ],
   "source": [
    "def add_num(a,b) :\n",
    "    \n",
    "return a+b"
   ]
  },
  {
   "cell_type": "code",
   "execution_count": 7,
   "id": "cae99b95",
   "metadata": {},
   "outputs": [
    {
     "ename": "SyntaxError",
     "evalue": "invalid syntax (2733306066.py, line 1)",
     "output_type": "error",
     "traceback": [
      "\u001b[1;36m  Cell \u001b[1;32mIn[7], line 1\u001b[1;36m\u001b[0m\n\u001b[1;33m    What will be the output of this code: print(list(map(lambda x: x*x, [1, 2, 3])))?\u001b[0m\n\u001b[1;37m         ^\u001b[0m\n\u001b[1;31mSyntaxError\u001b[0m\u001b[1;31m:\u001b[0m invalid syntax\n"
     ]
    }
   ],
   "source": [
    "What will be the output of this code: print(list(map(lambda x: x*x, [1, 2, 3])))?"
   ]
  },
  {
   "cell_type": "code",
   "execution_count": null,
   "id": "20c6ce60",
   "metadata": {},
   "outputs": [],
   "source": [
    "square of 1,2,3 : [1,4,9]"
   ]
  },
  {
   "cell_type": "raw",
   "id": "033b1be4",
   "metadata": {},
   "source": [
    "Use the filter() function to extract only even numbers from a list."
   ]
  },
  {
   "cell_type": "code",
   "execution_count": 10,
   "id": "8716b707",
   "metadata": {},
   "outputs": [
    {
     "ename": "SyntaxError",
     "evalue": "invalid syntax (955370495.py, line 3)",
     "output_type": "error",
     "traceback": [
      "\u001b[1;36m  Cell \u001b[1;32mIn[10], line 3\u001b[1;36m\u001b[0m\n\u001b[1;33m    return num % != 0\u001b[0m\n\u001b[1;37m                 ^\u001b[0m\n\u001b[1;31mSyntaxError\u001b[0m\u001b[1;31m:\u001b[0m invalid syntax\n"
     ]
    }
   ],
   "source": [
    "def filter_num(nums):\n",
    "    def is_odd(num):\n",
    "        return num % != 0\n",
    "        odd_nums + list(filter(is_odd, nums))\n",
    "    return odd_nums\n",
    "nums =[1,2,3,4,5,6,7,8]\n",
    "result = filter_even_nums (nums)\n",
    "print(\"Even numbers are : \",result)"
   ]
  },
  {
   "cell_type": "markdown",
   "id": "f2270173",
   "metadata": {},
   "source": [
    "Explain the purpose of the else block in a try-except-else construct."
   ]
  },
  {
   "cell_type": "markdown",
   "id": "11a2c827",
   "metadata": {},
   "source": [
    "exception is unasspected event during execution of program which can be handled . it is also  code run time error"
   ]
  },
  {
   "cell_type": "raw",
   "id": "d72612b0",
   "metadata": {},
   "source": [
    "Write a try-except block to handle division by zero."
   ]
  },
  {
   "cell_type": "code",
   "execution_count": null,
   "id": "887af7c3",
   "metadata": {},
   "outputs": [],
   "source": []
  },
  {
   "cell_type": "raw",
   "id": "f13a480f",
   "metadata": {},
   "source": [
    "What is the output of this lambda function? print((lambda x, y: x+y)(5, 3))"
   ]
  },
  {
   "cell_type": "code",
   "execution_count": 11,
   "id": "93c08075",
   "metadata": {},
   "outputs": [
    {
     "data": {
      "text/plain": [
       "8"
      ]
     },
     "execution_count": 11,
     "metadata": {},
     "output_type": "execute_result"
    }
   ],
   "source": [
    "8"
   ]
  },
  {
   "cell_type": "raw",
   "id": "bdddf4c4",
   "metadata": {},
   "source": [
    "Define a class named Dog with properties name and breed. Add a method bark()."
   ]
  },
  {
   "cell_type": "code",
   "execution_count": 30,
   "id": "1ebda62c",
   "metadata": {},
   "outputs": [],
   "source": [
    "class Dog:\n",
    "    def __init__ (self,name,breed):\n",
    "        self.name=name\n",
    "        self.breed=breed\n",
    "    def bark(self):\n",
    "        return\n",
    "    \n",
    "    "
   ]
  },
  {
   "cell_type": "raw",
   "id": "9223ccfa",
   "metadata": {},
   "source": [
    "Create two objects of the Dog class and call their methods."
   ]
  },
  {
   "cell_type": "code",
   "execution_count": 41,
   "id": "7f66b4ed",
   "metadata": {},
   "outputs": [
    {
     "name": "stdout",
     "output_type": "stream",
     "text": [
      "Disha likes Mango\n"
     ]
    }
   ],
   "source": [
    "class Dog:\n",
    "    def __init__ (self, name, breed):\n",
    "        self.name = name\n",
    "        self.breed = breed\n",
    "        \n",
    "    def bark(self):\n",
    "        print(f\"{self.name} say hii\")\n",
    "        \n",
    "    def bark1(self):\n",
    "        print(f\"{self.name} likes {self.breed}\")\n",
    "    \n",
    "    \n",
    "m = Dog(\"Disha\",\"Mango\")\n",
    "\n",
    "m.bark\n",
    "m.bark1()\n"
   ]
  },
  {
   "cell_type": "raw",
   "id": "46358e90",
   "metadata": {},
   "source": [
    "What is the difference between class variables and instance variables?"
   ]
  },
  {
   "cell_type": "markdown",
   "id": "67a7618a",
   "metadata": {},
   "source": [
    "class variables : it is creating into their repesctive class\n",
    "                  it is used in any classes with the help of parent,child \n",
    "\n",
    "instance variables : it is creating into anywhere in coding\n",
    "                     it is used in only particualr method"
   ]
  },
  {
   "cell_type": "raw",
   "id": "c3238a89",
   "metadata": {},
   "source": [
    "What will this print: print(\"apple\" if 5 > 3 else \"banana\")?"
   ]
  },
  {
   "cell_type": "code",
   "execution_count": null,
   "id": "2e5cfd9a",
   "metadata": {},
   "outputs": [],
   "source": []
  },
  {
   "cell_type": "raw",
   "id": "a520dafc",
   "metadata": {},
   "source": [
    "Write a function that accepts a list and returns the list of squares using list comprehension."
   ]
  },
  {
   "cell_type": "code",
   "execution_count": null,
   "id": "0a6bc8c5",
   "metadata": {},
   "outputs": [],
   "source": []
  },
  {
   "cell_type": "raw",
   "id": "56654a24",
   "metadata": {},
   "source": [
    "Explain what map() and filter() return when executed."
   ]
  },
  {
   "cell_type": "markdown",
   "id": "112bf98c",
   "metadata": {},
   "source": [
    "map is itrate one by one element when filter is giving output basis on condition"
   ]
  },
  {
   "cell_type": "markdown",
   "id": "d1b7d7c8",
   "metadata": {},
   "source": [
    "### Numpy"
   ]
  },
  {
   "cell_type": "raw",
   "id": "d18477a9",
   "metadata": {},
   "source": [
    "Create a 3x3 matrix using np.random.randint(0, 10, (3, 3))."
   ]
  },
  {
   "cell_type": "code",
   "execution_count": 12,
   "id": "a0324c7e",
   "metadata": {},
   "outputs": [],
   "source": [
    "import numpy as np\n"
   ]
  },
  {
   "cell_type": "code",
   "execution_count": 13,
   "id": "56f0ab8e",
   "metadata": {},
   "outputs": [
    {
     "name": "stdout",
     "output_type": "stream",
     "text": [
      "[[6 3 9]\n",
      " [5 5 8]\n",
      " [2 7 8]]\n"
     ]
    }
   ],
   "source": [
    "matrix = np.random.randint(0, 10, (3,3))\n",
    "print(matrix)"
   ]
  },
  {
   "cell_type": "raw",
   "id": "68d9a258",
   "metadata": {},
   "source": [
    "Slice the above matrix to extract the first two rows."
   ]
  },
  {
   "cell_type": "code",
   "execution_count": 17,
   "id": "08081bab",
   "metadata": {},
   "outputs": [
    {
     "name": "stdout",
     "output_type": "stream",
     "text": [
      "[[6 3 9]\n",
      " [5 5 8]]\n"
     ]
    }
   ],
   "source": [
    "matrix2=matrix[0:2]\n",
    "print(matrix2)"
   ]
  },
  {
   "cell_type": "markdown",
   "id": "0030743a",
   "metadata": {},
   "source": [
    "Combine two 3x3 matrices using np.concatenate along axis 0 and axis 1."
   ]
  },
  {
   "cell_type": "code",
   "execution_count": 19,
   "id": "9bbfecf6",
   "metadata": {},
   "outputs": [
    {
     "name": "stdout",
     "output_type": "stream",
     "text": [
      "concatenate_axis0 is:  [[1 2 3]\n",
      " [4 5 6]\n",
      " [7 8 9]\n",
      " [1 2 4]\n",
      " [3 5 7]\n",
      " [6 8 9]]\n",
      "concatenate_axis1 is:  [[1 2 3 1 2 4]\n",
      " [4 5 6 3 5 7]\n",
      " [7 8 9 6 8 9]]\n"
     ]
    }
   ],
   "source": [
    "m1=np.array([[1,2,3],[4,5,6],[7,8,9]])\n",
    "m2=np.array([[1,2,4],[3,5,7],[6,8,9]])\n",
    "\n",
    "concatenate_axis0 = np.concatenate((m1,m2),axis=0)\n",
    "print(\"concatenate_axis0 is: \",concatenate_axis0)\n",
    "concatenate_axis1 = np.concatenate((m1,m2),axis=1)\n",
    "print(\"concatenate_axis1 is: \",concatenate_axis1)"
   ]
  },
  {
   "cell_type": "raw",
   "id": "2db85140",
   "metadata": {},
   "source": [
    "Perform element-wise addition, subtraction, and multiplication of two matrices."
   ]
  },
  {
   "cell_type": "code",
   "execution_count": null,
   "id": "6f3b90e9",
   "metadata": {},
   "outputs": [],
   "source": []
  },
  {
   "cell_type": "raw",
   "id": "5acf9813",
   "metadata": {},
   "source": [
    "Demonstrate broadcasting by adding a 1D array to a 2D array."
   ]
  },
  {
   "cell_type": "code",
   "execution_count": 20,
   "id": "97985e99",
   "metadata": {},
   "outputs": [
    {
     "name": "stdout",
     "output_type": "stream",
     "text": [
      "[[ 2  4  6]\n",
      " [ 5  7  9]\n",
      " [ 8 10 12]]\n"
     ]
    }
   ],
   "source": [
    "a=np.array([1,2,3])\n",
    "b=np.array([[1,2,3],[4,5,6],[7,8,9]])\n",
    "print(a+b)"
   ]
  },
  {
   "cell_type": "raw",
   "id": "d4a90b42",
   "metadata": {},
   "source": [
    "Use np.clip to limit values in a matrix to a minimum of 2 and maximum of 8."
   ]
  },
  {
   "cell_type": "code",
   "execution_count": 25,
   "id": "6d56ccb1",
   "metadata": {},
   "outputs": [
    {
     "name": "stdout",
     "output_type": "stream",
     "text": [
      "clip_matrix for min2=  [0 0 0 0 0 0 0 0 0 0]\n",
      "clip_matrix for max8=  [1 2 3 4 5 6 7 8 8 8]\n",
      "clip_matrix is =  [2 2 3 4 5 6 7 8 8 8]\n"
     ]
    }
   ],
   "source": [
    "matrix=np.array([1,2,3,4,5,6,7,8,9,10])\n",
    "clip_matrix1=np.clip(matrix,a_min=2,a_max=0)\n",
    "print(\"clip_matrix for min2= \",clip_matrix1)\n",
    "\n",
    "clip_matrix2=np.clip(matrix,a_min=0,a_max=8)\n",
    "print(\"clip_matrix for max8= \",clip_matrix2)\n",
    "\n",
    "clip_matrix3=np.clip(matrix,a_min=2,a_max=8)\n",
    "print(\"clip_matrix is = \",clip_matrix3)"
   ]
  },
  {
   "cell_type": "raw",
   "id": "4a1ae5f5",
   "metadata": {},
   "source": [
    "Use np.ceil on an array of floating-point numbers [1.2, 2.5, 3.8]."
   ]
  },
  {
   "cell_type": "code",
   "execution_count": 27,
   "id": "e94a509e",
   "metadata": {},
   "outputs": [
    {
     "name": "stdout",
     "output_type": "stream",
     "text": [
      "[2. 3. 4.]\n"
     ]
    }
   ],
   "source": [
    "m1=np.array([1.2, 2.5, 3.8])\n",
    "m2=np.ceil(m1)\n",
    "print(m2)"
   ]
  },
  {
   "cell_type": "raw",
   "id": "ec39504d",
   "metadata": {},
   "source": [
    "Use np.where to replace all elements greater than 5 with 100 in a given array."
   ]
  },
  {
   "cell_type": "code",
   "execution_count": 29,
   "id": "61df0ab6",
   "metadata": {},
   "outputs": [
    {
     "name": "stdout",
     "output_type": "stream",
     "text": [
      "[  1   2   3   4   5 100 100 100 100]\n"
     ]
    }
   ],
   "source": [
    "m=np.array([1,2,3,4,5,6,7,8,9])\n",
    "m1=np.where(m > 5,100, m)\n",
    "print(m1)"
   ]
  },
  {
   "cell_type": "raw",
   "id": "1d797f53",
   "metadata": {},
   "source": [
    "Create two 2x2 matrices and compute their dot product."
   ]
  },
  {
   "cell_type": "code",
   "execution_count": 26,
   "id": "987a6a84",
   "metadata": {},
   "outputs": [
    {
     "data": {
      "text/plain": [
       "32"
      ]
     },
     "execution_count": 26,
     "metadata": {},
     "output_type": "execute_result"
    }
   ],
   "source": [
    "a = np.array([1,2,3])\n",
    "b = np.array([4,5,6])\n",
    "np.dot(a,b)"
   ]
  },
  {
   "cell_type": "raw",
   "id": "8b1747c5",
   "metadata": {},
   "source": [
    "What is the difference between np.array([1, 2, 3]) and np.array([[1, 2, 3]])?"
   ]
  },
  {
   "cell_type": "markdown",
   "id": "7dda1e7c",
   "metadata": {},
   "source": [
    "np.array([1, 2, 3]) is a 1D array\n",
    "np.array([[1, 2, 3]]) is a 2D array"
   ]
  },
  {
   "cell_type": "raw",
   "id": "f99a5cea",
   "metadata": {},
   "source": []
  },
  {
   "cell_type": "code",
   "execution_count": null,
   "id": "b1389a7c",
   "metadata": {},
   "outputs": [],
   "source": []
  }
 ],
 "metadata": {
  "kernelspec": {
   "display_name": "Python 3 (ipykernel)",
   "language": "python",
   "name": "python3"
  },
  "language_info": {
   "codemirror_mode": {
    "name": "ipython",
    "version": 3
   },
   "file_extension": ".py",
   "mimetype": "text/x-python",
   "name": "python",
   "nbconvert_exporter": "python",
   "pygments_lexer": "ipython3",
   "version": "3.11.5"
  }
 },
 "nbformat": 4,
 "nbformat_minor": 5
}
