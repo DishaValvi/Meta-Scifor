{
 "cells": [
  {
   "cell_type": "markdown",
   "id": "23b02046",
   "metadata": {},
   "source": [
    "# Test 2.0"
   ]
  },
  {
   "cell_type": "markdown",
   "id": "2f646554",
   "metadata": {},
   "source": [
    "# Functions"
   ]
  },
  {
   "cell_type": "code",
   "execution_count": 1,
   "id": "5bcdee64",
   "metadata": {},
   "outputs": [],
   "source": [
    "# 1- Write a function that takes a number and returns its square."
   ]
  },
  {
   "cell_type": "code",
   "execution_count": 4,
   "id": "37b2ba5f",
   "metadata": {},
   "outputs": [],
   "source": [
    "def square(num):\n",
    "    print(\"your given number square is\",num*num)"
   ]
  },
  {
   "cell_type": "code",
   "execution_count": 5,
   "id": "05d1d58a",
   "metadata": {},
   "outputs": [
    {
     "name": "stdout",
     "output_type": "stream",
     "text": [
      "your given number square is 25\n"
     ]
    }
   ],
   "source": [
    "square(5)"
   ]
  },
  {
   "cell_type": "code",
   "execution_count": 6,
   "id": "7106ec47",
   "metadata": {},
   "outputs": [],
   "source": [
    "# 2- Write a function that takes two numbers and returns the larger one.\n"
   ]
  },
  {
   "cell_type": "code",
   "execution_count": 7,
   "id": "41b5cb72",
   "metadata": {},
   "outputs": [],
   "source": [
    "def larger_one(n1,n2):\n",
    "    if n1>=n2:\n",
    "        print(n1,\"is larger number in both of them\")\n",
    "    else:\n",
    "        print(n2,\"is larger number in both of them\")\n",
    "    "
   ]
  },
  {
   "cell_type": "code",
   "execution_count": 8,
   "id": "e8e26981",
   "metadata": {},
   "outputs": [
    {
     "name": "stdout",
     "output_type": "stream",
     "text": [
      "56 is larger number in both of them\n"
     ]
    }
   ],
   "source": [
    "larger_one(45,56)"
   ]
  },
  {
   "cell_type": "code",
   "execution_count": 9,
   "id": "394608ee",
   "metadata": {},
   "outputs": [
    {
     "name": "stdout",
     "output_type": "stream",
     "text": [
      "78 is larger number in both of them\n"
     ]
    }
   ],
   "source": [
    "larger_one(78,23)"
   ]
  },
  {
   "cell_type": "code",
   "execution_count": 10,
   "id": "bc5e9043",
   "metadata": {},
   "outputs": [],
   "source": [
    "# 3- Write a function that prints “Welcome to AIML” five times using a loop.\n"
   ]
  },
  {
   "cell_type": "code",
   "execution_count": 13,
   "id": "2683919f",
   "metadata": {},
   "outputs": [
    {
     "name": "stdout",
     "output_type": "stream",
     "text": [
      "Welcome to AIML\n",
      "Welcome to AIML\n",
      "Welcome to AIML\n",
      "Welcome to AIML\n",
      "Welcome to AIML\n"
     ]
    }
   ],
   "source": [
    "a=\"Welcome to AIML\"\n",
    "n=5\n",
    "i=0\n",
    "while i<n:\n",
    "    print(a)\n",
    "    i+=1"
   ]
  },
  {
   "cell_type": "code",
   "execution_count": 14,
   "id": "6a287978",
   "metadata": {},
   "outputs": [],
   "source": [
    "# 4"
   ]
  },
  {
   "cell_type": "code",
   "execution_count": 15,
   "id": "50e4e223",
   "metadata": {},
   "outputs": [],
   "source": [
    "def check(n):\n",
    "    if n % 2 ==0:\n",
    "        print(n,\"is even number\")\n",
    "    else:\n",
    "        print(n,\"is odd number\")"
   ]
  },
  {
   "cell_type": "code",
   "execution_count": 16,
   "id": "7fe195e6",
   "metadata": {},
   "outputs": [
    {
     "name": "stdout",
     "output_type": "stream",
     "text": [
      "6 is even number\n"
     ]
    }
   ],
   "source": [
    "check(6)"
   ]
  },
  {
   "cell_type": "code",
   "execution_count": 17,
   "id": "132fb066",
   "metadata": {},
   "outputs": [
    {
     "name": "stdout",
     "output_type": "stream",
     "text": [
      "7 is odd number\n"
     ]
    }
   ],
   "source": [
    "check(7)"
   ]
  },
  {
   "cell_type": "code",
   "execution_count": 18,
   "id": "db2971b1",
   "metadata": {},
   "outputs": [],
   "source": [
    "#5"
   ]
  },
  {
   "cell_type": "code",
   "execution_count": 19,
   "id": "acaa06b5",
   "metadata": {},
   "outputs": [
    {
     "name": "stdout",
     "output_type": "stream",
     "text": [
      "10\n"
     ]
    }
   ],
   "source": [
    "a=[1,2,3,4]\n",
    "b=0\n",
    "for sum in a:\n",
    "    b += sum\n",
    "print(b)"
   ]
  },
  {
   "cell_type": "markdown",
   "id": "4a6bd2c2",
   "metadata": {},
   "source": [
    "# loops"
   ]
  },
  {
   "cell_type": "code",
   "execution_count": 20,
   "id": "52b99fca",
   "metadata": {},
   "outputs": [
    {
     "name": "stdout",
     "output_type": "stream",
     "text": [
      "1\n",
      "2\n",
      "3\n",
      "4\n",
      "5\n",
      "6\n",
      "7\n",
      "8\n",
      "9\n",
      "10\n"
     ]
    }
   ],
   "source": [
    "# 1\n",
    "for i in range(1,11):\n",
    "    print(i)"
   ]
  },
  {
   "cell_type": "code",
   "execution_count": 22,
   "id": "b0cec4bf",
   "metadata": {},
   "outputs": [
    {
     "name": "stdout",
     "output_type": "stream",
     "text": [
      "2\n",
      "4\n",
      "6\n",
      "8\n",
      "10\n",
      "12\n",
      "14\n",
      "16\n",
      "18\n",
      "20\n"
     ]
    }
   ],
   "source": [
    "#2\n",
    "a=2\n",
    "while a <= 20:\n",
    "    print(a)\n",
    "    a += 2\n",
    "    "
   ]
  },
  {
   "cell_type": "code",
   "execution_count": 24,
   "id": "068670d3",
   "metadata": {},
   "outputs": [],
   "source": [
    "# 3\n",
    "def char(input_s):\n",
    "    for i in input_s:\n",
    "        print(i)\n",
    "my_s=\"Disha\"\n",
    "\n",
    "\n",
    "        "
   ]
  },
  {
   "cell_type": "code",
   "execution_count": 25,
   "id": "b3316638",
   "metadata": {},
   "outputs": [
    {
     "name": "stdout",
     "output_type": "stream",
     "text": [
      "D\n",
      "i\n",
      "s\n",
      "h\n",
      "a\n"
     ]
    }
   ],
   "source": [
    "char(my_s)"
   ]
  },
  {
   "cell_type": "code",
   "execution_count": 27,
   "id": "b326a579",
   "metadata": {},
   "outputs": [
    {
     "name": "stdout",
     "output_type": "stream",
     "text": [
      "Enter Number which one you want a table5\n",
      "5 X 1 = 5\n",
      "5 X 2 = 10\n",
      "5 X 3 = 15\n",
      "5 X 4 = 20\n",
      "5 X 5 = 25\n",
      "5 X 6 = 30\n",
      "5 X 7 = 35\n",
      "5 X 8 = 40\n",
      "5 X 9 = 45\n",
      "5 X 10 = 50\n"
     ]
    }
   ],
   "source": [
    "# 4\n",
    "num=int(input(\"Enter Number which one you want a table\"))\n",
    "\n",
    "for i in range(1,11):\n",
    "    print(str(num), 'X' ,str(i),\"=\",str(num*i))"
   ]
  },
  {
   "cell_type": "code",
   "execution_count": 29,
   "id": "9e315740",
   "metadata": {},
   "outputs": [
    {
     "name": "stdout",
     "output_type": "stream",
     "text": [
      "24\n",
      "25\n",
      "26\n",
      "27\n"
     ]
    }
   ],
   "source": [
    "# 5\n",
    "def positive_num(num):\n",
    "    for number in num:\n",
    "        if number > 0:\n",
    "            print(number)\n",
    "list1=[24,25,26,27,0,-1,-2]\n",
    "positive_num(list1)\n",
    "    "
   ]
  },
  {
   "cell_type": "markdown",
   "id": "396af09b",
   "metadata": {},
   "source": [
    "# Try and Except"
   ]
  },
  {
   "cell_type": "code",
   "execution_count": 30,
   "id": "93783646",
   "metadata": {},
   "outputs": [],
   "source": [
    "# 1\n",
    "def divide_num(num,deno):\n",
    "    try:\n",
    "        result=num/deno\n",
    "        print(result)\n",
    "    except ZeroDivisionError:\n",
    "        print(\"can't divide by 0\")"
   ]
  },
  {
   "cell_type": "code",
   "execution_count": 32,
   "id": "c9503d22",
   "metadata": {},
   "outputs": [
    {
     "name": "stdout",
     "output_type": "stream",
     "text": [
      "5.0\n",
      "The result of dividing 10 by 2 is: None\n",
      "can't divide by 0\n",
      "The result of dividing 10 by 0 is: None\n"
     ]
    }
   ],
   "source": [
    "num1 = 10\n",
    "num2 = 2\n",
    "print(f\"The result of dividing {num1} by {num2} is: {divide_num(num1, num2)}\")\n",
    "\n",
    "num3 = 10\n",
    "num4 = 0\n",
    "print(f\"The result of dividing {num3} by {num4} is: {divide_num(num3, num4)}\")"
   ]
  },
  {
   "cell_type": "code",
   "execution_count": 38,
   "id": "3f992fa5",
   "metadata": {},
   "outputs": [
    {
     "name": "stdout",
     "output_type": "stream",
     "text": [
      "please enter a num: efgfd\n",
      "Invalid input.Please enter a valid number\n",
      "please enter a num: 5\n",
      "You entered :  5.0\n"
     ]
    }
   ],
   "source": [
    "# 2\n",
    "while True:\n",
    "    try:\n",
    "        user_input= input(\"please enter a num: \")\n",
    "        number = float(user_input)\n",
    "        print(\"You entered : \", number)\n",
    "        break\n",
    "    except ValueError:\n",
    "        print(\"Invalid input.Please enter a valid number\")"
   ]
  },
  {
   "cell_type": "code",
   "execution_count": 34,
   "id": "37638b2e",
   "metadata": {},
   "outputs": [],
   "source": [
    "# 3\n"
   ]
  },
  {
   "cell_type": "code",
   "execution_count": 35,
   "id": "3977226a",
   "metadata": {},
   "outputs": [],
   "source": [
    "# 4\n"
   ]
  },
  {
   "cell_type": "code",
   "execution_count": 39,
   "id": "f578f860",
   "metadata": {},
   "outputs": [
    {
     "name": "stdout",
     "output_type": "stream",
     "text": [
      "Enter an integere: 3.4\n",
      "Invalid input.please entered valid value\n",
      "Enter an integere: 4\n",
      "Ypur entered:  4\n"
     ]
    }
   ],
   "source": [
    "# 5\n",
    "while True:\n",
    "    try:\n",
    "        user_input = input (\"Enter an integere: \")\n",
    "        int_value = int(user_input)\n",
    "        print(\"Ypur entered: \",int_value)\n",
    "        break\n",
    "    except ValueError:\n",
    "        print(\"Invalid input.please entered valid value\")"
   ]
  },
  {
   "cell_type": "markdown",
   "id": "42ed58f0",
   "metadata": {},
   "source": [
    "# Lambda,Map,Filter"
   ]
  },
  {
   "cell_type": "code",
   "execution_count": 43,
   "id": "e30d6fe9",
   "metadata": {},
   "outputs": [
    {
     "name": "stdout",
     "output_type": "stream",
     "text": [
      "88\n"
     ]
    }
   ],
   "source": [
    "#1\n",
    "add_num = lambda x:x+10\n",
    "n1=add_num(78)\n",
    "print(n1)"
   ]
  },
  {
   "cell_type": "code",
   "execution_count": 44,
   "id": "20baf68e",
   "metadata": {},
   "outputs": [
    {
     "name": "stdout",
     "output_type": "stream",
     "text": [
      "[1, 4, 9, 16, 25]\n"
     ]
    }
   ],
   "source": [
    "#2\n",
    "num=[1,2,3,4,5]\n",
    "num2 = list(map(lambda x:x**2,  num))\n",
    "print(num2)\n"
   ]
  },
  {
   "cell_type": "code",
   "execution_count": 46,
   "id": "2477bc65",
   "metadata": {},
   "outputs": [
    {
     "name": "stdout",
     "output_type": "stream",
     "text": [
      "[2, 4]\n"
     ]
    }
   ],
   "source": [
    "#3\n",
    "num=[1,2,3,4,5]\n",
    "num2 = list(filter(lambda x:x % 2 == 0,  num))\n",
    "print(num2)"
   ]
  },
  {
   "cell_type": "code",
   "execution_count": 48,
   "id": "568f4965",
   "metadata": {},
   "outputs": [
    {
     "name": "stdout",
     "output_type": "stream",
     "text": [
      "['ABC', 'BVM', 'FBG']\n"
     ]
    }
   ],
   "source": [
    "#4\n",
    "l1=['abc','bvm','fbg']\n",
    "u1=list(map(lambda x: x.upper(), l1))\n",
    "print(u1)"
   ]
  },
  {
   "cell_type": "code",
   "execution_count": null,
   "id": "7a6353cf",
   "metadata": {},
   "outputs": [],
   "source": [
    "#5\n",
    "\n",
    "def filter_num(num1):\n",
    "    filtered_numbers = list(filter())\n"
   ]
  },
  {
   "cell_type": "markdown",
   "id": "3d13aaab",
   "metadata": {},
   "source": [
    "# Variable Scope"
   ]
  },
  {
   "cell_type": "code",
   "execution_count": null,
   "id": "8b48b75f",
   "metadata": {},
   "outputs": [],
   "source": []
  }
 ],
 "metadata": {
  "kernelspec": {
   "display_name": "Python 3 (ipykernel)",
   "language": "python",
   "name": "python3"
  },
  "language_info": {
   "codemirror_mode": {
    "name": "ipython",
    "version": 3
   },
   "file_extension": ".py",
   "mimetype": "text/x-python",
   "name": "python",
   "nbconvert_exporter": "python",
   "pygments_lexer": "ipython3",
   "version": "3.11.5"
  }
 },
 "nbformat": 4,
 "nbformat_minor": 5
}
